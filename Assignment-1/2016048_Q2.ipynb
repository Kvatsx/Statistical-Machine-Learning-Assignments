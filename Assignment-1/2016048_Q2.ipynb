{
 "cells": [
  {
   "cell_type": "code",
   "execution_count": 29,
   "metadata": {},
   "outputs": [],
   "source": [
    "\n",
    "# Kaustav Vats (2016048)\n",
    "from __future__ import division\n",
    "import numpy as np\n",
    "from mnist.utils import mnist_reader\n",
    "import pathlib\n",
    "from math import log\n",
    "from random import randint as randi\n",
    "import matplotlib.pyplot as plt\n"
   ]
  },
  {
   "cell_type": "code",
   "execution_count": 30,
   "metadata": {},
   "outputs": [],
   "source": [
    "# Load Dataset\n",
    "X_train, Y_train = mnist_reader.load_mnist('mnist/data', kind='train')\n",
    "X_test, Y_test = mnist_reader.load_mnist('mnist/data', kind='t10k')\n",
    "\n",
    "def Binarize(arr):\n",
    "    NewArr = np.zeros((arr.shape[0], arr.shape[1]), dtype=np.int)\n",
    "    for i in range(arr.shape[0]):\n",
    "        for j in range(arr.shape[1]):\n",
    "            if arr[i, j] <= 127:\n",
    "                NewArr[i, j] = 0\n",
    "            else:\n",
    "                NewArr[i, j] = 1\n",
    "    return NewArr\n",
    "\n",
    "if pathlib.Path('xtrain.npy').exists():\n",
    "    X_train = np.load('xtrain.npy')\n",
    "else:\n",
    "    X_train = Binarize(X_train)\n",
    "    np.save('xtrain.npy', X_train)\n",
    "\n",
    "if pathlib.Path('xtest.npy').exists():\n",
    "    X_test = np.load('xtest.npy')\n",
    "else:\n",
    "    X_test = Binarize(X_test)\n",
    "    np.save('xtest.npy', X_test)\n",
    "\n",
    "def Tp(arr):\n",
    "    NewArr = np.zeros((arr.shape[0], ), dtype=np.int)\n",
    "    for i in range(arr.shape[0]):\n",
    "        NewArr[i] = arr[i]\n",
    "    return NewArr\n",
    "\n",
    "Y_train = Tp(Y_train)\n",
    "\n"
   ]
  },
  {
   "cell_type": "code",
   "execution_count": 31,
   "metadata": {},
   "outputs": [
    {
     "name": "stdout",
     "output_type": "stream",
     "text": [
      "[5 0 4 ... 5 6 8]\n",
      "Y_train.shape:  (60000,)\n",
      "Y_train.size:  60000\n",
      "[7 2 1 ... 4 5 6]\n",
      "ndim:  2\n",
      "shape: (60000, 784)\n",
      "size:  47040000\n",
      "ndim:  1\n",
      "shape: (60000,)\n",
      "size:  60000\n"
     ]
    }
   ],
   "source": [
    "print(Y_train)\n",
    "print(\"Y_train.shape: \", Y_train.shape)\n",
    "print(\"Y_train.size: \", Y_train.size)\n",
    "\n",
    "print(Y_test)\n",
    "print(\"ndim: \", X_train.ndim)\n",
    "print(\"shape:\", X_train.shape)\n",
    "print(\"size: \", X_train.size)\n",
    "\n",
    "print(\"ndim: \", Y_train.ndim)\n",
    "print(\"shape:\", Y_train.shape)\n",
    "print(\"size: \", Y_train.size)\n",
    "\n"
   ]
  },
  {
   "cell_type": "code",
   "execution_count": 32,
   "metadata": {},
   "outputs": [],
   "source": [
    "class NaiveBayesCustom:\n",
    "    def __init__(self, ClassCount):\n",
    "        self.ClassCount = ClassCount\n",
    "        self.Prob = np.zeros((10, 784, 2))\n",
    "        self.Pred = np.zeros(10)\n",
    "        self.PredictedClass = np.zeros((10000,), dtype=np.int)\n",
    "        self.ConfusionMatrix = np.zeros((10, 10), dtype=np.int)\n",
    "        self.CalProb = np.zeros((10000, 10))\n",
    "        \n",
    "    def fit(self, x_train, y_train, class1, class2, c1ImagCount, c2ImgCount, name):\n",
    "        if pathlib.Path(name).exists():\n",
    "            self.Prob = np.load(name)\n",
    "        else:\n",
    "            print(x_train.shape[0], \"x\", x_train.shape[1])\n",
    "            for i in range(0, x_train.shape[0]):\n",
    "                if y_train[i] == class1 or y_train[i] == class2:\n",
    "                    for j in range(0, x_train.shape[1]):\n",
    "                        if x_train[i, j] == 0:\n",
    "                            self.Prob[y_train[i], j, 0] += 1\n",
    "                        else:\n",
    "                            self.Prob[y_train[i], j, 1] += 1\n",
    "            \n",
    "            for j in range(784):\n",
    "                self.Prob[class1, j, 0] = self.Prob[class1, j, 0]/c1ImagCount\n",
    "                self.Prob[class1, j, 1] = self.Prob[class1, j, 1]/c1ImagCount\n",
    "                self.Prob[class2, j, 0] = self.Prob[class2, j, 0]/c2ImgCount\n",
    "                self.Prob[class2, j, 1] = self.Prob[class2, j, 1]/c2ImgCount\n",
    "\n",
    "            np.save(name, self.Prob)\n",
    "\n",
    "    def predict(self, x_test, y_test, class1, class2, c1ImgCount, c2ImgCount):\n",
    "        Correct = 0\n",
    "        print(x_test.shape[0], \"x\", x_test.shape[1])\n",
    "        for i in range(x_test.shape[0]):\n",
    "            self.Pred = np.zeros(10)\n",
    "            if y_test[i] == class1 or y_test[i] == class2:\n",
    "                for j in range(self.ClassCount):\n",
    "                    num = 1.0\n",
    "                    for k in range(x_test.shape[1]):\n",
    "                        # print(\"x_test:\", x_test[i, k])\n",
    "                        # print(num, self.Prob[j, k, x_test[i, k]])\n",
    "                        num = num*self.Prob[j, k, x_test[i, k]]\n",
    "                    num = num*0.5\n",
    "                    self.Pred[j] = num\n",
    "                # print(self.Pred)\n",
    "                if self.Pred[class1] > self.Pred[class2]:\n",
    "                    self.PredictedClass[i] = class1\n",
    "                else:\n",
    "                    self.PredictedClass[i] = class2\n",
    "                if self.PredictedClass[i] == y_test[i]:\n",
    "                    Correct += 1\n",
    "                \n",
    "                self.Pred = self.Pred/(np.sum(self.Pred))\n",
    "                # print(\"self.Pred avg value:\", np.average(self.Pred))\n",
    "                for n in range(self.ClassCount):\n",
    "                    self.CalProb[i, n] = self.Pred[n]\n",
    "        print(Correct/(c1ImgCount+c2ImgCount))\n",
    "        return Correct/(c1ImgCount+c2ImgCount)\n",
    "\n",
    "    # def PredictCustom(self, x_test, y_test, class1, class2, c1ImgCount, c2ImgCount):\n",
    "    #     Correct = 0\n",
    "    #     print(x_test.shape[0], \"x\", x_test.shape[1])\n",
    "    #     for i in range(x_test.shape[0]):\n",
    "    #         self.Pred = np.zeros(10)\n",
    "    #         if y_test[i] == class1 or y_test[i] == class2:\n",
    "    #             for j in range(self.ClassCount):\n",
    "    #                 num = 1.0\n",
    "    #                 for k in range(x_test.shape[1]):\n",
    "    #                     # print(\"x_test:\", x_test[i, k])\n",
    "    #                     # print(num, self.Prob[j, k, x_test[i, k]])\n",
    "    #                     num = num*self.Prob[j, k, x_test[i, k]]\n",
    "    #                 num = num*0.5\n",
    "    #                 self.Pred[j] = num\n",
    "    #             # print(self.Pred)\n",
    "    #             if self.Pred[class1] > self.Pred[class2]:\n",
    "    #                 self.PredictedClass[i] = class1\n",
    "    #             else:\n",
    "    #                 self.PredictedClass[i] = class2\n",
    "    #             if self.PredictedClass[i] == y_test[i]:\n",
    "    #                 Correct += 1\n",
    "                \n",
    "    #             self.Pred = self.Pred/(np.sum(self.Pred))\n",
    "    #             # print(\"self.Pred avg value:\", np.average(self.Pred))\n",
    "    #             for n in range(self.ClassCount):\n",
    "    #                 self.CalProb[i, n] = self.Pred[n]\n",
    "    #     print(Correct/(c1ImgCount+c2ImgCount))\n",
    "\n",
    "    def ConMatrix(self, y_test):\n",
    "        for i in range(y_test.shape[0]):\n",
    "            self.ConfusionMatrix[y_test[i], self.PredictedClass[i]] += 1\n",
    "        print(self.ConfusionMatrix)\n",
    "\n",
    "    def PrecisionAndRecall(self):\n",
    "        for i in range(self.ClassCount):\n",
    "            tpfp = 0.0\n",
    "            for j in range(self.ClassCount):\n",
    "                tpfp += self.ConfusionMatrix[j, i]\n",
    "            print(\"Precision for Class\", i, \"=\", self.ConfusionMatrix[i, i]/tpfp)\n",
    "            print(\"Recall for Class\", i, \"=\", self.ConfusionMatrix[i, i]/1000*self.ClassCount)\n",
    "            print()\n",
    "\n",
    "    def RocCurve(self, y_test, c1, c2):\n",
    "        # print(max(self.Prob[5, :, 0]))\n",
    "        roc_values = np.zeros((10, 2, 1000))\n",
    "        det_values = np.zeros((10, 2, 1000))\n",
    "        for i in range(10):\n",
    "            if i == c1 or i == c2:\n",
    "                if i == c2:\n",
    "                    print(\"yes\",c2)\n",
    "                Threshold = 1.0\n",
    "                for k in range(1000):\n",
    "                    tp = 0\n",
    "                    fn = 0\n",
    "                    fp = 0\n",
    "                    tn = 0\n",
    "                    for j in range(y_test.shape[0]):\n",
    "                        classify = False\n",
    "                        if ( self.CalProb[j, i] > Threshold ):\n",
    "                            classify = True\n",
    "                        if classify and y_test[j] == i:\n",
    "                            tp += 1\n",
    "                        elif classify and y_test[j] != i:\n",
    "                            fp += 1\n",
    "                        elif classify == False and y_test[j] == i:\n",
    "                            fn += 1\n",
    "                        elif classify == False and y_test[j] != i:\n",
    "                            tn += 1\n",
    "\n",
    "                    roc_values[i, 0, k] = tp/(tp+fn)\n",
    "                    roc_values[i, 1, k] = fp/(tn+fp)\n",
    "\n",
    "                    det_values[i, 0, k] = fn/(fn+tp)\n",
    "                    det_values[i, 1, k] = fp/(fp+tn)\n",
    "\n",
    "                    Threshold *= 0.7\n",
    "                print(\"K\", k)\n",
    "\n",
    "        plt.figure()\n",
    "        color = ['b', 'g', 'c', 'r', 'm', 'y', 'k', '#940445', '#42c4d3', '#ff7256']\n",
    "        for i in range(10):\n",
    "            if i == c2 or i == c1:\n",
    "                plt.plot(roc_values[i, 1, :], roc_values[i, 0, :], color[i], label=\"ROC Curve for class %d \" %i)\n",
    "        plt.xlabel(\"False Positive Rate\")\n",
    "        plt.ylabel(\"True Positive Rate\")\n",
    "        plt.title(\"ROC Curve\")\n",
    "        plt.legend(loc='lower right')\n",
    "        # plt.show()  \n",
    "        plt.savefig(\"roc_q21.png\")\n",
    "\n",
    "        plt.figure()\n",
    "        for i in range(10):\n",
    "            if i == c2 or i == c1:\n",
    "                plt.plot(det_values[i, 1, :], det_values[i, 0, :], color[i], label=\"DET Curve for class %d\" %i)\n",
    "        plt.xlabel(\"False Positive Rate\")\n",
    "        plt.ylabel(\"False Negative Rate\")\n",
    "        plt.title(\"DET Curve\")\n",
    "        plt.legend(loc='upper right')\n",
    "        plt.show()  \n",
    "#         plt.savefig(\"det_q21.png\")\n"
   ]
  },
  {
   "cell_type": "code",
   "execution_count": 33,
   "metadata": {},
   "outputs": [
    {
     "name": "stdout",
     "output_type": "stream",
     "text": [
      "6131 5851 11982\n",
      "1010 974 1984\n"
     ]
    }
   ],
   "source": [
    "\n",
    "NB = NaiveBayesCustom(10)\n",
    "class1 = 3\n",
    "class2 = 8\n",
    "\n",
    "count0 = 0\n",
    "count1 = 0\n",
    "for i in range(60000):\n",
    "    if Y_train[i] == class1:\n",
    "        count0 += 1\n",
    "    if Y_train[i] == class2:\n",
    "        count1 += 1\n",
    "print(count0, count1, count0+count1)\n",
    "\n",
    "NB.fit(X_train, Y_train, class1, class2, count0, count1, \"Prob.npy\")\n",
    "\n",
    "count3 = 0\n",
    "count4 = 0\n",
    "for i in range(10000):\n",
    "    if Y_test[i] == class1:\n",
    "        count3 += 1\n",
    "    if Y_test[i] == class2:\n",
    "        count4 += 1\n",
    "print(count3, count4, count3+count4)\n"
   ]
  },
  {
   "cell_type": "code",
   "execution_count": 34,
   "metadata": {},
   "outputs": [
    {
     "name": "stdout",
     "output_type": "stream",
     "text": [
      "5\n"
     ]
    }
   ],
   "source": [
    "\n",
    "dataPointer = []\n",
    "Partitions = []\n",
    "for i in range(X_train.shape[0]):\n",
    "    if Y_train[i] == class1 or Y_train[i] == class2:\n",
    "        dataPointer.append(i)\n",
    "    if len(dataPointer) == 2518 and len(Partitions) < 4:\n",
    "        Partitions.append(dataPointer)\n",
    "        dataPointer = []\n",
    "Partitions.append(dataPointer)\n",
    "print(len(Partitions))\n",
    "# print(Partitions)\n"
   ]
  },
  {
   "cell_type": "code",
   "execution_count": 35,
   "metadata": {},
   "outputs": [
    {
     "name": "stdout",
     "output_type": "stream",
     "text": [
      "5162 4910 10072\n",
      "[8 8 3 ... 8 3 8]\n",
      "969 941 1910\n",
      "1910 x 784\n",
      "0.9267015706806283\n",
      "10000 x 784\n"
     ]
    },
    {
     "name": "stderr",
     "output_type": "stream",
     "text": [
      "c:\\users\\kvats\\appdata\\local\\programs\\python\\python37-32\\lib\\site-packages\\ipykernel_launcher.py:53: RuntimeWarning: invalid value encountered in true_divide\n"
     ]
    },
    {
     "name": "stdout",
     "output_type": "stream",
     "text": [
      "0.9178427419354839\n",
      "K 999\n",
      "yes 8\n",
      "K 999\n"
     ]
    },
    {
     "data": {
      "image/png": "[encoded data removed]",
      "text/plain": [
       "<Figure size 432x288 with 1 Axes>"
      ]
     },
     "metadata": {
      "needs_background": "light"
     },
     "output_type": "display_data"
    },
    {
     "data": {
      "image/png": "[encoded data removed]",
      "text/plain": [
       "<Figure size 432x288 with 1 Axes>"
      ]
     },
     "metadata": {
      "needs_background": "light"
     },
     "output_type": "display_data"
    },
    {
     "name": "stdout",
     "output_type": "stream",
     "text": [
      "[0.9267015706806283]\n",
      "[0.9178427419354839]\n"
     ]
    }
   ],
   "source": [
    "\n",
    "Acc = []\n",
    "Acc2 = []\n",
    "for i in range(5):\n",
    "    if i == 4:\n",
    "        OriginalClass = []\n",
    "        for j in range(len(Partitions[i])):\n",
    "            OriginalClass.append(Y_train[Partitions[i][j]])\n",
    "            Y_train[Partitions[i][j]] = 0\n",
    "\n",
    "        count0 = 0\n",
    "        count1 = 0\n",
    "        for j in range(60000):\n",
    "            if Y_train[j] == class1:\n",
    "                count0 += 1\n",
    "            if Y_train[j] == class2:\n",
    "                count1 += 1\n",
    "        print(count0, count1, count0+count1)\n",
    "        name = str(i+1)+\"Prob.npy\"\n",
    "        NB.fit(X_train, Y_train, class1, class2, count0, count1, name)\n",
    "\n",
    "        X_test_New = np.zeros((len(Partitions[i]), 784), dtype=np.int)\n",
    "        Y_test_New = np.zeros((len(Partitions[i]), ), dtype=np.int)\n",
    "\n",
    "        for k in range(len(Partitions[i])):\n",
    "            for l in range(784):\n",
    "                X_test_New[k, l] = X_train[Partitions[i][k], l]\n",
    "            Y_test_New[k] = OriginalClass[k]\n",
    "        print(Y_test_New)\n",
    "\n",
    "        count0 = 0\n",
    "        count1 = 0\n",
    "        for j in range(len(Partitions[i])):\n",
    "            if Y_test_New[j] == class1:\n",
    "                count0 += 1\n",
    "            if Y_test_New[j] == class2:\n",
    "                count1 += 1\n",
    "        print(count0, count1, count0+count1)\n",
    "\n",
    "        Acc.append(NB.predict(X_test_New, Y_test_New, class1, class2, count0, count1))\n",
    "        Acc2.append(NB.predict(X_test, Y_test, class1, class2, count3, count4))\n",
    "        for j in range(len(Partitions[i])):\n",
    "            Y_train[Partitions[i][j]] = OriginalClass[j]\n",
    "        # NB.ConMatrix(Y_test_New)\n",
    "        NB.RocCurve(Y_test_New, class1, class2)\n",
    "print(Acc)\n",
    "print(Acc2)\n",
    "\n"
   ]
  },
  {
   "cell_type": "code",
   "execution_count": 26,
   "metadata": {},
   "outputs": [
    {
     "name": "stdout",
     "output_type": "stream",
     "text": [
      "Lenght min 5851 11982\n",
      "New Leng 5850\n"
     ]
    }
   ],
   "source": [
    "C1_Arr = []\n",
    "C2_Arr = []\n",
    "\n",
    "for i in range(Y_train.shape[0]):\n",
    "    if Y_train[i] == class1:\n",
    "        C1_Arr.append(i)\n",
    "    if Y_train[i] == class2:\n",
    "        C2_Arr.append(i)\n",
    "\n",
    "leng = min(len(C1_Arr), len(C2_Arr))\n",
    "print(\"Lenght min\", leng, len(C1_Arr)+len(C2_Arr))\n",
    "\n",
    "leng = leng-1\n",
    "print(\"New Leng\", leng)\n",
    "\n",
    "for i in range(Y_train.shape[0]):\n",
    "    if Y_train[i] == class1:\n",
    "        if i not in C1_Arr:\n",
    "            Y_train[i] = 0\n",
    "    if Y_train[i] == class2:\n",
    "        if i not in C2_Arr:\n",
    "            Y_train[i] = 0\n"
   ]
  },
  {
   "cell_type": "code",
   "execution_count": 27,
   "metadata": {},
   "outputs": [
    {
     "name": "stdout",
     "output_type": "stream",
     "text": [
      "5850\n",
      "5 2340\n"
     ]
    }
   ],
   "source": [
    "Partitions = []\n",
    "k = 0\n",
    "for i in range(5):\n",
    "    dataPointer = []\n",
    "    for j in range(1170):\n",
    "        dataPointer.append(C1_Arr[k])\n",
    "        dataPointer.append(C2_Arr[k])\n",
    "        k += 1\n",
    "    Partitions.append(dataPointer)\n",
    "print(k)\n",
    "print(len(Partitions), len(Partitions[0]))\n"
   ]
  },
  {
   "cell_type": "code",
   "execution_count": 28,
   "metadata": {},
   "outputs": [
    {
     "name": "stdout",
     "output_type": "stream",
     "text": [
      "2340 x 784\n",
      "0.3818376068376068\n",
      "10000 x 784\n"
     ]
    },
    {
     "name": "stderr",
     "output_type": "stream",
     "text": [
      "c:\\users\\kvats\\appdata\\local\\programs\\python\\python37-32\\lib\\site-packages\\ipykernel_launcher.py:53: RuntimeWarning: invalid value encountered in true_divide\n"
     ]
    },
    {
     "name": "stdout",
     "output_type": "stream",
     "text": [
      "0.7444556451612904\n",
      "K 999\n",
      "yes 8\n",
      "K 999\n",
      "[0.3818376068376068]\n",
      "[0.7444556451612904]\n"
     ]
    },
    {
     "data": {
      "image/png": "[encoded data removed]",
      "text/plain": [
       "<Figure size 432x288 with 1 Axes>"
      ]
     },
     "metadata": {
      "needs_background": "light"
     },
     "output_type": "display_data"
    },
    {
     "data": {
      "image/png": "[encoded data removed]",
      "text/plain": [
       "<Figure size 432x288 with 1 Axes>"
      ]
     },
     "metadata": {
      "needs_background": "light"
     },
     "output_type": "display_data"
    }
   ],
   "source": [
    "\n",
    "Acc3 = []\n",
    "Acc4 = []\n",
    "for i in range(5):\n",
    "    if i == 0:\n",
    "        OriginalClass = []\n",
    "        for j in range(len(Partitions[i])):\n",
    "            OriginalClass.append(Y_train[Partitions[i][j]])\n",
    "            Y_train[Partitions[i][j]] = 0\n",
    "\n",
    "        count0 = 5850\n",
    "        count1 = 5850\n",
    "        name = str(i+10)+\"Prob.npy\"\n",
    "        NB.fit(X_train, Y_train, class1, class2, count0, count1, name)\n",
    "\n",
    "        X_test_New = np.zeros((len(Partitions[i]), 784), dtype=np.int)\n",
    "        Y_test_New = np.zeros((len(Partitions[i]), ), dtype=np.int)\n",
    "\n",
    "        for k in range(len(Partitions[i])):\n",
    "            for l in range(784):\n",
    "                X_test_New[k, l] = X_train[Partitions[i][k], l]\n",
    "            Y_test_New[k] = OriginalClass[k]\n",
    "\n",
    "        count0 = 2340\n",
    "        count1 = 2340\n",
    "\n",
    "        Acc3.append(NB.predict(X_test_New, Y_test_New, class1, class2, count0, count1))\n",
    "        Acc4.append(NB.predict(X_test, Y_test, class1, class2, count3, count4))\n",
    "        for j in range(len(Partitions[i])):\n",
    "            Y_train[Partitions[i][j]] = OriginalClass[j]\n",
    "        NB.RocCurve(Y_test_New, class1, class2)\n",
    "\n",
    "print(Acc3)\n",
    "print(Acc4)\n",
    "\n"
   ]
  },
  {
   "cell_type": "code",
   "execution_count": null,
   "metadata": {},
   "outputs": [],
   "source": []
  }
 ],
 "metadata": {
  "file_extension": ".py",
  "kernelspec": {
   "display_name": "Python 3",
   "language": "python",
   "name": "python3"
  },
  "language_info": {
   "codemirror_mode": {
    "name": "ipython",
    "version": 3
   },
   "file_extension": ".py",
   "mimetype": "text/x-python",
   "name": "python",
   "nbconvert_exporter": "python",
   "pygments_lexer": "ipython3",
   "version": "3.7.1"
  },
  "mimetype": "text/x-python",
  "name": "python",
  "npconvert_exporter": "python",
  "pygments_lexer": "ipython3",
  "version": 3
 },
 "nbformat": 4,
 "nbformat_minor": 2
}
